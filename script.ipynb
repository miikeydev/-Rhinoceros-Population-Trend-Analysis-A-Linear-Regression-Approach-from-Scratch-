{
 "cells": [
  {
   "cell_type": "code",
   "execution_count": 1,
   "id": "43e5449a",
   "metadata": {},
   "outputs": [],
   "source": [
    "import pandas as pd\n",
    "import numpy as np\n",
    "\n",
    "excel_file = 'Data/World Black Rhino Population DataSet.xlsx'\n",
    "\n",
    "# Reading the Excel file, dropping rows where 'DATE' or 'Number of Black Rhino' are NaN\n",
    "df = pd.read_excel(excel_file, engine='openpyxl').dropna(subset=['DATE', 'Number of Black Rhino'])\n",
    "\n",
    "X_initial = df['DATE'].to_numpy()\n",
    "Y = df['Number of Black Rhino'].to_numpy()\n",
    "\n",
    "# Normalizing the 'DATE' feature to prevent overflow due to large feature values\n",
    "X_normalized = (X_initial - np.mean(X_initial)) / np.std(X_initial)\n",
    "\n",
    "# Adding a bias column to X after normalization\n",
    "m = len(X_normalized)  # Total number of samples\n",
    "X = np.c_[X_normalized, np.ones(m)]\n",
    "\n",
    "# Initializing theta parameters with small random values\n",
    "theta = np.random.uniform(low=-0.1, high=0.1, size=(2, 1))\n"
   ]
  },
  {
   "cell_type": "code",
   "execution_count": 2,
   "id": "b1edbe00",
   "metadata": {},
   "outputs": [],
   "source": [
    "# Mean Squared Error cost function\n",
    "def compute_cost(X, Y, theta):\n",
    "    m = len(Y)\n",
    "    F = X.dot(theta)\n",
    "    cost = (1/(2*m)) * np.sum(np.square(F - Y))\n",
    "    return cost"
   ]
  },
  {
   "cell_type": "code",
   "execution_count": 3,
   "id": "16272b5a",
   "metadata": {},
   "outputs": [
    {
     "name": "stdout",
     "output_type": "stream",
     "text": [
      "Optimized parameters (theta): [1313.0103512 4476.5      ]\n"
     ]
    }
   ],
   "source": [
    "# Algorithm parameters\n",
    "alpha = 0.5  # Learning rate\n",
    "iterations = 50  # Number of iterations\n",
    "\n",
    "# Gradient Descent function\n",
    "def gradient_descent(X, Y, theta, alpha, iterations):\n",
    "    m = len(Y)  # Number of samples\n",
    "    cost_history = np.zeros(iterations)  # To record the cost evolution at each iteration\n",
    "    \n",
    "    for i in range(iterations):\n",
    "        F = X.dot(theta)\n",
    "        gradient = (1/m) * X.T.dot(F - Y)\n",
    "        theta -= alpha * gradient\n",
    "        cost_history[i] = compute_cost(X, Y, theta)\n",
    "    \n",
    "    return theta, cost_history\n",
    "\n",
    "# Optimizing theta parameters\n",
    "theta_optimal, cost_history = gradient_descent(X, Y.reshape(-1, 1), theta, alpha, iterations)\n",
    "\n",
    "print(\"Optimized parameters (theta):\", theta_optimal.flatten())"
   ]
  },
  {
   "cell_type": "code",
   "execution_count": 4,
   "id": "a7257277",
   "metadata": {},
   "outputs": [
    {
     "data": {
      "image/png": "[encoded data removed]",
      "text/plain": [
       "<Figure size 432x288 with 1 Axes>"
      ]
     },
     "metadata": {
      "needs_background": "light"
     },
     "output_type": "display_data"
    }
   ],
   "source": [
    "import matplotlib.pyplot as plt\n",
    "\n",
    "# Predictions on the entire X data to plot the regression line\n",
    "Y_pred = X.dot(theta_optimal)\n",
    "\n",
    "# Plotting the actual data as a scatter plot\n",
    "plt.scatter(X[:, 0], Y, color='blue', label='Actual Data')\n",
    "\n",
    "# Plotting the regression line\n",
    "plt.plot(X[:, 0], Y_pred, color='red', label='Predicted Line')\n",
    "\n",
    "plt.title('Linear Regression')\n",
    "plt.xlabel('Year (Normalized)')\n",
    "plt.ylabel('Number of Black Rhinos')\n",
    "plt.legend()\n",
    "plt.show()"
   ]
  },
  {
   "cell_type": "code",
   "execution_count": 5,
   "id": "fe6871ce",
   "metadata": {},
   "outputs": [
    {
     "name": "stdout",
     "output_type": "stream",
     "text": [
      "Predicted number of black rhinos in 2026: [6827.00026376]\n"
     ]
    }
   ],
   "source": [
    "# Normalize the year 2026\n",
    "year_2026_normalized = (2026 - np.mean(X_initial)) / np.std(X_initial)\n",
    "\n",
    "# Add bias term\n",
    "year_2026_normalized_with_bias = np.array([year_2026_normalized, 1])\n",
    "\n",
    "# Make prediction for the normalized year\n",
    "predicted_rhinos_2026 = year_2026_normalized_with_bias.dot(theta_optimal)\n",
    "\n",
    "print(\"Predicted number of black rhinos in 2026:\", predicted_rhinos_2026)"
   ]
  }
 ],
 "metadata": {
  "kernelspec": {
   "display_name": "Python 3",
   "language": "python",
   "name": "python3"
  },
  "language_info": {
   "codemirror_mode": {
    "name": "ipython",
    "version": 3
   },
   "file_extension": ".py",
   "mimetype": "text/x-python",
   "name": "python",
   "nbconvert_exporter": "python",
   "pygments_lexer": "ipython3",
   "version": "3.8.8"
  }
 },
 "nbformat": 4,
 "nbformat_minor": 5
}
